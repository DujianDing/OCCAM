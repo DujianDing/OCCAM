{
 "cells": [
  {
   "cell_type": "code",
   "id": "initial_id",
   "metadata": {
    "collapsed": true,
    "ExecuteTime": {
     "end_time": "2024-11-18T03:16:52.099385Z",
     "start_time": "2024-11-18T03:16:48.139655Z"
    }
   },
   "source": [
    "import torch\n",
    "import numpy as np\n",
    "import pickle\n",
    "from torchvision import datasets\n",
    "import os\n",
    "import ssl\n",
    "import random\n",
    "from Lipschitz.tinyimagenet_dataset import Tiny_ImageNet\n",
    "\n",
    "np.random.seed(0)\n",
    "random.seed(0)\n",
    "softmax_temperature = 1e-3\n",
    "softmax_temperature_metric = 1.\n",
    "max_lip_c = 1e6\n",
    "milp_time_limit = 600\n",
    "dataset_name = \"cifar100\" # tiny-imagenet-200, stl10, cifar10, cifar100\n",
    "val_split_ver = \"val_64\"\n",
    "ssl._create_default_https_context = ssl._create_unverified_context\n",
    "\n",
    "\n",
    "if dataset_name == \"stl10\":\n",
    "    train_set = datasets.STL10(root=f'../datasets/{dataset_name}/', split='train', download=True)\n",
    "    test_set = datasets.STL10(root=f'../datasets/{dataset_name}/', split='test', download=True)\n",
    "elif dataset_name == \"tiny-imagenet-200\":\n",
    "    train_set = Tiny_ImageNet(root=f'../datasets/{dataset_name}/', split='train')\n",
    "    test_set = Tiny_ImageNet(root=f'../datasets/{dataset_name}/', split='test')\n",
    "elif dataset_name == \"cifar10\":\n",
    "    train_set = datasets.CIFAR10(root=f'../datasets/{dataset_name}/', train=True, download=True)\n",
    "    test_set = datasets.CIFAR10(root=f'../datasets/{dataset_name}/', train=False, download=True)\n",
    "elif dataset_name == \"cifar100\":\n",
    "    train_set = datasets.CIFAR100(root=f'../datasets/{dataset_name}/', train=True, download=True)\n",
    "    test_set = datasets.CIFAR100(root=f'../datasets/{dataset_name}/', train=False, download=True)\n",
    "else:\n",
    "    raise NotImplementedError(\"dataset not supported!\")\n",
    "\n",
    "if val_split_ver == \"val_64\":\n",
    "    val_number = int(len(train_set.data) * 0.4)\n",
    "elif val_split_ver == \"val_46\":\n",
    "    val_number = int(len(train_set.data) * 0.6)\n",
    "elif val_split_ver == \"val_1000\":\n",
    "    val_number = 1000\n",
    "else:\n",
    "    raise NotImplementedError(\"val_split_ver not supported!\")\n",
    "    \n",
    "    \n",
    "if os.path.exists(f\"../datasets/{dataset_name}/training_validation_indices_{val_number}.pkl\"):\n",
    "    print(f\"Loading training_validation_indices_{val_number}.pkl...\")\n",
    "    train_idxs, val_idxs = pickle.load(open(f\"../datasets/{dataset_name}/training_validation_indices_{val_number}.pkl\", \"rb\"))\n",
    "else:\n",
    "    raise ValueError(f\"training_validation_indices_{val_number}.pkl not found!\")\n",
    "val_input_images = train_set.data[val_idxs].reshape(len(val_idxs), -1)\n",
    "assert len(val_input_images) == val_number, \"val_input_images not the same as val_number!\"\n",
    "feature_type2feature = {\"val_input_images\": val_input_images}\n",
    "\n",
    "classifier_type_list = [\"resnet18\", \"resnet34\", \"resnet50\", \"resnet101\", \"swin_v2_t\", \"swin_v2_s\", \"swin_v2_b\"]\n",
    "classifier_type2probs = {}\n",
    "classifier_type2succ_probs = {}\n",
    "val_targets_list = []\n",
    "for classifier_type in classifier_type_list:\n",
    "    val_target = np.hstack([_.numpy() for _ in torch.load(f'../results/{val_split_ver}/{dataset_name}/{classifier_type}_nn_feature_np/val_target_list.pt', map_location='cpu')])\n",
    "    if len(val_targets_list) == 0:\n",
    "        val_targets_list = val_target\n",
    "    else:\n",
    "        assert np.all(val_targets_list == val_target), \"val_target_list not the same across classifiers!\"\n",
    "\n",
    "    classifier_type2probs[classifier_type] = np.vstack(\n",
    "        [torch.nn.functional.softmax(_ / softmax_temperature, dim=1).detach().numpy() for _ in\n",
    "         torch.load(f'../results/{val_split_ver}/{dataset_name}/{classifier_type}_nn_feature_np/val_logit_list.pt', map_location='cpu')])\n",
    "\n",
    "    x_succprob_list = []\n",
    "    for target, probs in zip(val_targets_list, classifier_type2probs[classifier_type]):\n",
    "        x_succprob_list.append(probs[target])\n",
    "    classifier_type2succ_probs[classifier_type] = np.array(x_succprob_list)\n",
    "\n",
    "metric_base_model_list = [\"resnet18\", \"resnet34\", \"resnet50\", \"resnet101\", \"swin_v2_t\", \"swin_v2_s\", \"swin_v2_b\"]\n",
    "metric_base_model2probs = {}\n",
    "for _ in metric_base_model_list:\n",
    "    metric_base_model2probs[_] = np.vstack(\n",
    "        [torch.nn.functional.softmax(_ / softmax_temperature_metric, dim=1).detach().numpy() for _ in\n",
    "         torch.load(f'../results/{val_split_ver}/{dataset_name}/{_}_nn_feature_np/val_logit_list.pt',\n",
    "                    map_location='cpu')])\n"
   ],
   "outputs": [
    {
     "name": "stdout",
     "output_type": "stream",
     "text": [
      "Files already downloaded and verified\n",
      "Files already downloaded and verified\n",
      "Loading training_validation_indices_20000.pkl...\n"
     ]
    }
   ],
   "execution_count": 2
  },
  {
   "cell_type": "code",
   "source": [
    "# divide validation set into k folds and fit k 1nn searchers\n",
    "from sklearn.neighbors import NearestNeighbors\n",
    "\n",
    "metric_p = np.inf           # np.inf or 1 or 2\n",
    "val_fold_num = 40           # number of folds, K=40 by default\n",
    "val_fold_size = len(val_targets_list) // val_fold_num\n",
    "feature_type = \"val_input_images\"\n",
    "metric_base_model = 'resnet18' # None or 'resnet18' or 'swin_v2_t'\n",
    "metric_base_model_idx = 0       # 0 for resnet18, 1 for resnet34, 2 for resnet50, 3 for resnet101, 4 for resnet152, 5 for swin_v2_t, 6 for swin_v2_s, 7 for swin_v2_b\n",
    "\n",
    "print(f\"metric_base_model: {metric_base_model}; metric_p: L-{metric_p}; feature: {feature_type}\")\n",
    "\n",
    "if metric_base_model is not None:\n",
    "    val_feature_list = metric_base_model2probs[metric_base_model].reshape(len(val_targets_list), -1)\n",
    "else:\n",
    "    val_feature_list = feature_type2feature[feature_type].reshape(len(val_targets_list), -1)"
   ],
   "metadata": {
    "collapsed": false,
    "ExecuteTime": {
     "end_time": "2024-11-18T03:16:57.239600Z",
     "start_time": "2024-11-18T03:16:57.233139Z"
    }
   },
   "id": "afd7e5a1dbd590e6",
   "outputs": [
    {
     "name": "stdout",
     "output_type": "stream",
     "text": [
      "metric_base_model: resnet18; metric_p: L-inf; feature: val_input_images\n"
     ]
    }
   ],
   "execution_count": 3
  },
  {
   "cell_type": "code",
   "source": [
    "# test\n",
    "test_input_images = test_set.data.reshape(len(test_set.data), -1)\n",
    "test_targets_list = []\n",
    "classifier_type2test_probs = {}\n",
    "classifier_type2test_succ_probs = {}\n",
    "classifier_type2test_argmax = {}\n",
    "\n",
    "# get ground truth for each classifier (i.e., success prob. for each test sample)\n",
    "for classifier_type in classifier_type_list:\n",
    "    test_target = np.hstack([_.numpy() for _ in torch.load(f'../results/{val_split_ver}/{dataset_name}/{classifier_type}_nn_feature_np/test_target_list.pt', map_location='cpu')])\n",
    "    if len(test_targets_list) == 0:\n",
    "        test_targets_list = test_target\n",
    "    else:\n",
    "        assert np.all(test_targets_list == test_target), \"test_target_list not the same across classifiers!\"\n",
    "\n",
    "    classifier_type2test_probs[classifier_type] = np.vstack(\n",
    "        [torch.nn.functional.softmax(_ / softmax_temperature, dim=1).detach().numpy() for _ in\n",
    "         torch.load(f'../results/{val_split_ver}/{dataset_name}/{classifier_type}_nn_feature_np/test_logit_list.pt', map_location='cpu')])\n",
    "\n",
    "    x_succprob_list = []\n",
    "    x_argmax_list = []\n",
    "    for target, probs in zip(test_targets_list, classifier_type2test_probs[classifier_type]):\n",
    "        x_succprob_list.append(probs[target])\n",
    "        x_argmax_list.append(max(probs) == probs[target])\n",
    "    classifier_type2test_succ_probs[classifier_type] = np.array(x_succprob_list)\n",
    "    classifier_type2test_argmax[classifier_type] = np.array(x_argmax_list) * 1\n",
    "\n",
    "metric_base_model2test_probs = {}\n",
    "for _ in metric_base_model_list:\n",
    "    metric_base_model2test_probs[_] = np.vstack(\n",
    "        [torch.nn.functional.softmax(_ / softmax_temperature_metric, dim=1).detach().numpy() for _ in\n",
    "         torch.load(f'../results/{val_split_ver}/{dataset_name}/{_}_nn_feature_np/test_logit_list.pt',\n",
    "                    map_location='cpu')])\n",
    "\n",
    "if metric_base_model is not None:\n",
    "    test_feature_list = metric_base_model2test_probs[metric_base_model].reshape(len(test_targets_list), -1)\n",
    "else:\n",
    "    test_feature_list = test_input_images.reshape(len(test_targets_list), -1)"
   ],
   "metadata": {
    "collapsed": false,
    "ExecuteTime": {
     "end_time": "2024-11-18T03:16:59.829512Z",
     "start_time": "2024-11-18T03:16:59.197238Z"
    }
   },
   "id": "b473dc29f82a1764",
   "outputs": [],
   "execution_count": 4
  },
  {
   "cell_type": "code",
   "source": [
    "# 1nn search for each test sample on all validation folds\n",
    "import matplotlib.pyplot as plt\n",
    "\n",
    "nn_searcher_list = []\n",
    "for i in range(val_fold_num):\n",
    "    nn_searcher_list.append(NearestNeighbors(n_neighbors=1, p=metric_p).fit(val_feature_list[val_fold_size * i : val_fold_size * (i + 1)]))\n",
    "\n",
    "nn_idx_list = []\n",
    "for i in range(val_fold_num):\n",
    "    nn_idx_list.append(nn_searcher_list[i].kneighbors(test_feature_list, n_neighbors=1, return_distance=False).reshape(-1) + i * val_fold_size)\n",
    "\n",
    "classifier_type2succprob_est_list = {}\n",
    "classifier_type2est_std_list = {}\n",
    "# estimate local lip_c for each classifier\n",
    "for classifier_type in classifier_type_list:\n",
    "    x_succprob_list = classifier_type2succ_probs[classifier_type]\n",
    "    x_succprob_test_list = classifier_type2test_succ_probs[classifier_type]\n",
    "\n",
    "    succprob_est_list = np.mean([x_succprob_list[_] for _ in nn_idx_list], axis=0)\n",
    "    classifier_type2succprob_est_list[classifier_type] = succprob_est_list\n",
    "    classifier_type2est_std_list[classifier_type] = np.std((succprob_est_list - x_succprob_test_list))\n",
    "\n",
    "    print(f\"classifier: {classifier_type}\")\n",
    "    print(f\"average succprob: {np.mean(x_succprob_test_list):.2f}, est: {np.mean(succprob_est_list):.2f}\")\n",
    "    print(f\"validity: {np.mean(succprob_est_list <= x_succprob_test_list):.2f}\")\n",
    "    print(f\"agg. tightness: {np.mean(succprob_est_list - x_succprob_test_list):.2f}\")\n",
    "    print(f\"ind. tightness: {np.mean(np.abs(succprob_est_list - x_succprob_test_list)):.2f}\")\n",
    "    print(f\"std: {classifier_type2est_std_list[classifier_type]:.4f}\")\n",
    "    print(\"\")"
   ],
   "metadata": {
    "collapsed": false,
    "ExecuteTime": {
     "end_time": "2024-11-18T03:17:03.519700Z",
     "start_time": "2024-11-18T03:17:00.767761Z"
    }
   },
   "id": "c75febe23f4b6371",
   "outputs": [
    {
     "name": "stderr",
     "output_type": "stream",
     "text": [
      "/Users/dalton386/Desktop/Model Portfolio/Codes/Lipschitz/venv/lib/python3.8/site-packages/threadpoolctl.py:1019: RuntimeWarning: libc not found. The ctypes module in Python 3.8 is maybe too old for this OS.\n",
      "  warnings.warn(\n"
     ]
    },
    {
     "name": "stdout",
     "output_type": "stream",
     "text": [
      "classifier: resnet18\n",
      "average succprob: 0.67, est: 0.64\n",
      "validity: 0.67\n",
      "agg. tightness: -0.03\n",
      "ind. tightness: 0.32\n",
      "std: 0.3980\n",
      "\n",
      "classifier: resnet34\n",
      "average succprob: 0.70, est: 0.67\n",
      "validity: 0.70\n",
      "agg. tightness: -0.03\n",
      "ind. tightness: 0.34\n",
      "std: 0.4118\n",
      "\n",
      "classifier: resnet50\n",
      "average succprob: 0.70, est: 0.68\n",
      "validity: 0.70\n",
      "agg. tightness: -0.02\n",
      "ind. tightness: 0.34\n",
      "std: 0.4141\n",
      "\n",
      "classifier: resnet101\n",
      "average succprob: 0.73, est: 0.71\n",
      "validity: 0.73\n",
      "agg. tightness: -0.02\n",
      "ind. tightness: 0.33\n",
      "std: 0.4069\n",
      "\n",
      "classifier: swin_v2_t\n",
      "average succprob: 0.72, est: 0.70\n",
      "validity: 0.72\n",
      "agg. tightness: -0.02\n",
      "ind. tightness: 0.34\n",
      "std: 0.4154\n",
      "\n",
      "classifier: swin_v2_s\n",
      "average succprob: 0.76, est: 0.73\n",
      "validity: 0.76\n",
      "agg. tightness: -0.03\n",
      "ind. tightness: 0.33\n",
      "std: 0.4026\n",
      "\n",
      "classifier: swin_v2_b\n",
      "average succprob: 0.75, est: 0.73\n",
      "validity: 0.75\n",
      "agg. tightness: -0.03\n",
      "ind. tightness: 0.33\n",
      "std: 0.4020\n",
      "\n"
     ]
    }
   ],
   "execution_count": 5
  },
  {
   "cell_type": "code",
   "source": [
    "# ILP formulation\n",
    "from scipy.optimize import LinearConstraint, Bounds, milp\n",
    "\n",
    "test_size = len(test_targets_list)\n",
    "classifier_num = len(classifier_type_list)\n",
    "# normalized cost; need to be aligned with classifier_type_list\n",
    "classifier_cost_list = np.asarray([88.9, 135.9, 174.5, 317.4, 326.4, 600.7, 610.6]) / 3600 * 3.06 * 1000\n",
    "\n",
    "test_slice_ind_bases = np.arange(classifier_num) * test_size\n",
    "test_slice_ones = np.ones(classifier_num)\n",
    "\n",
    "ilp_bounds = Bounds(lb=0, ub=1)\n",
    "# the uniqueness constraint: one classifier can only be used once on one test sample\n",
    "ilp_A_uniq = np.zeros((test_size, test_size * classifier_num))\n",
    "[np.put(A_row, test_slice_ind_bases + i, test_slice_ones) for i, A_row in enumerate(ilp_A_uniq)]\n",
    "ilp_b_l = np.ones(test_size)\n",
    "ilp_b_u = np.ones(test_size)\n",
    "# the cost constraint: the sum of the cost of the classifiers used should be less than user specified budget\n",
    "ilp_A = np.vstack([ilp_A_uniq, np.hstack([np.ones(test_size) * cost for cost in classifier_cost_list])])\n",
    "ilp_b_l = np.hstack([ilp_b_l, 0])\n",
    "ilp_b_u = np.hstack([ilp_b_u, -1])  # replace -1 w/ user specified budget\n",
    "ilp_constraints = LinearConstraint(ilp_A, ilp_b_l, ilp_b_u)\n",
    "# the integrality constraint: the indicator of classifiers used should be either 0 or 1\n",
    "ilp_integrality = np.ones(test_size * classifier_num, dtype=int) \n",
    "\n",
    "test_succ_probs_list = np.vstack([classifier_type2test_succ_probs[classifier_type] for classifier_type in classifier_type_list])\n",
    "test_argmax_list = np.vstack([classifier_type2test_argmax[classifier_type] for classifier_type in classifier_type_list])\n",
    "    "
   ],
   "metadata": {
    "collapsed": false,
    "ExecuteTime": {
     "end_time": "2024-11-18T03:17:18.646575Z",
     "start_time": "2024-11-18T03:17:10.296949Z"
    }
   },
   "id": "ef3295fa4e754322",
   "outputs": [],
   "execution_count": 6
  },
  {
   "cell_type": "code",
   "source": "total_cost_budget_list = np.asarray(sorted(np.hstack([np.arange(classifier_cost_list[_], classifier_cost_list[_+1], 30) for _ in range(len(classifier_cost_list) - 1)] + [classifier_cost_list[-1] * _ for _ in [0.6, 0.8, 0.9, 1]]) * test_size))",
   "metadata": {
    "collapsed": false,
    "ExecuteTime": {
     "end_time": "2024-11-18T03:17:20.810894Z",
     "start_time": "2024-11-18T03:17:20.805622Z"
    }
   },
   "id": "681bab7695b60866",
   "outputs": [],
   "execution_count": 7
  },
  {
   "cell_type": "code",
   "source": [
    "# Our method\n",
    "\n",
    "lambda_classifier_est_std = 5\n",
    "\n",
    "classifiers_succprob_est_list = np.hstack([classifier_type2succprob_est_list[classifier_type] - classifier_type2est_std_list[classifier_type] * lambda_classifier_est_std for classifier_type in classifier_type_list])\n",
    "\n",
    "ilp_A_no_base = np.vstack([ilp_A_uniq, np.hstack([np.zeros(test_size) if idx == metric_base_model_idx else np.ones(test_size) * cost for idx, cost in enumerate(classifier_cost_list)])])\n",
    "base_service_cost = classifier_cost_list[metric_base_model_idx] * test_size\n",
    "\n",
    "test_accuracy_list_ours = []\n",
    "test_accuracy_argmax_list_ours = []\n",
    "model_usage_along_budget_list = []\n",
    "for _total_cost_budget in total_cost_budget_list:\n",
    "    if metric_base_model is not None:\n",
    "        ilp_b_u[-1] = _total_cost_budget - base_service_cost\n",
    "        ilp_constraints = LinearConstraint(ilp_A_no_base, ilp_b_l, ilp_b_u)\n",
    "    else:\n",
    "        ilp_b_u[-1] = _total_cost_budget\n",
    "        ilp_constraints = LinearConstraint(ilp_A, ilp_b_l, ilp_b_u)\n",
    "    \n",
    "    # https://docs.scipy.org/doc/scipy/reference/generated/scipy.optimize.milp.html\n",
    "    # convert to minimization problem\n",
    "    res = milp(c=classifiers_succprob_est_list * -1., constraints=ilp_constraints, integrality=ilp_integrality, bounds=ilp_bounds, options={\"time_limit\": milp_time_limit})\n",
    "    try:\n",
    "        res.x = res.x.reshape(classifier_num, test_size)\n",
    "        res.x = np.round(res.x).astype(bool)\n",
    "        model_usage_along_budget_list.append(np.sum(res.x, axis=1))\n",
    "        test_accuracy_list_ours.append(np.mean(test_succ_probs_list[res.x]))\n",
    "        test_accuracy_argmax_list_ours.append(np.mean(test_argmax_list[res.x]))\n",
    "    except AttributeError:\n",
    "        test_accuracy_list_ours.append(np.nan)\n",
    "        test_accuracy_argmax_list_ours.append(np.nan)\n",
    "\n",
    "model_usage_along_budget_list = np.vstack(model_usage_along_budget_list).transpose(1, 0)"
   ],
   "metadata": {
    "collapsed": false,
    "ExecuteTime": {
     "end_time": "2024-05-20T02:24:08.531019Z",
     "start_time": "2024-05-20T02:17:01.566190Z"
    }
   },
   "id": "253d184848ba58e8",
   "outputs": [],
   "execution_count": 8
  },
  {
   "cell_type": "code",
   "source": [
    "# baselines\n",
    "# 1. single best/largest model within the budget\n",
    "\n",
    "test_accuracy_list_single_best = []\n",
    "test_accuracy_argmax_list_single_best = []\n",
    "for _total_cost_budget in total_cost_budget_list:\n",
    "    avg_budget_per_call = _total_cost_budget / test_size\n",
    "    largest_model_idx = np.argmax((classifier_cost_list <= avg_budget_per_call) * classifier_cost_list)\n",
    "    test_accuracy_list_single_best.append(np.mean(classifier_type2test_succ_probs[classifier_type_list[largest_model_idx]]))\n",
    "    test_accuracy_argmax_list_single_best.append(np.mean(classifier_type2test_argmax[classifier_type_list[largest_model_idx]]))\n"
   ],
   "metadata": {
    "collapsed": false,
    "ExecuteTime": {
     "end_time": "2024-05-16T08:48:35.120628Z",
     "start_time": "2024-05-16T08:48:35.115121Z"
    }
   },
   "id": "1ec55c7837311ef9",
   "outputs": [],
   "execution_count": 9
  },
  {
   "cell_type": "code",
   "source": [
    "# 2. Random selection - Uniformly sample the constraint matrix and solve the ILP problem; average over 10 runs\n",
    "\n",
    "rand_total_cost_list = []\n",
    "rand_expected_acc_list = []\n",
    "rand_expected_acc_lb_list = []\n",
    "test_accuracy_list_random = []\n",
    "test_accuracy_argmax_list_random = []\n",
    "for _ in range(3):\n",
    "    rand_classifiers_succprob_est_list = np.random.rand(test_size * classifier_num)\n",
    "    _test_accuracy_list_random = []\n",
    "    _test_accuracy_argmax_list_random = []\n",
    "    \n",
    "    for _total_cost_budget in total_cost_budget_list:\n",
    "        ilp_b_u[-1] = _total_cost_budget\n",
    "        ilp_constraints = LinearConstraint(ilp_A, ilp_b_l, ilp_b_u)\n",
    "    \n",
    "        # https://docs.scipy.org/doc/scipy/reference/generated/scipy.optimize.milp.html\n",
    "        res = milp(c=rand_classifiers_succprob_est_list * -1., constraints=ilp_constraints, integrality=ilp_integrality, bounds=ilp_bounds, options={\"time_limit\": milp_time_limit})\n",
    "        try:\n",
    "            res.x = res.x.reshape(classifier_num, test_size)\n",
    "            res.x = np.round(res.x).astype(bool)\n",
    "            _test_accuracy_list_random.append(np.mean(test_succ_probs_list[res.x]))\n",
    "            _test_accuracy_argmax_list_random.append(np.mean(test_argmax_list[res.x]))\n",
    "        except AttributeError:\n",
    "            _test_accuracy_list_random.append(np.nan)\n",
    "            _test_accuracy_argmax_list_random.append(np.nan)\n",
    "    \n",
    "    test_accuracy_list_random.append(_test_accuracy_list_random)\n",
    "    test_accuracy_argmax_list_random.append(_test_accuracy_argmax_list_random)\n",
    "\n",
    "test_accuracy_list_random = np.mean(test_accuracy_list_random, axis=0)\n",
    "test_accuracy_argmax_list_random = np.mean(test_accuracy_argmax_list_random, axis=0)\n",
    " "
   ],
   "metadata": {
    "collapsed": false,
    "ExecuteTime": {
     "end_time": "2024-05-16T08:52:46.951520Z",
     "start_time": "2024-05-16T08:48:36.303808Z"
    }
   },
   "id": "ea37eecedeee50b5",
   "outputs": [],
   "execution_count": 10
  },
  {
   "cell_type": "code",
   "source": [
    "# 3. FrugalMCT: Efficient API selection paper - train accuracy predictor (random forest); check codes for implementation\n",
    "\n",
    "from sklearn.ensemble import RandomForestRegressor\n",
    "\n",
    "frugal_mct_accuracy_predictor = RandomForestRegressor()\n",
    "# train accuracy predictor\n",
    "frugal_mct_base_model = 'resnet18'  # 'resnet18' or 'swin_v2_t'\n",
    "assert frugal_mct_base_model == metric_base_model, \"frugal_mct_base_model not equal to metric_base_model!\"\n",
    "\n",
    "frugal_mct_feature_list = metric_base_model2probs[frugal_mct_base_model].reshape(len(val_targets_list), -1)\n",
    "frugal_mct_classifier_acc_list = np.hstack([classifier_type2succ_probs[classifier_type].reshape(-1, 1) for classifier_type in classifier_type_list])\n",
    "frugal_mct_test_feature_list = metric_base_model2test_probs[frugal_mct_base_model].reshape(len(test_targets_list), -1)\n",
    "\n",
    "frugal_mct_accuracy_predictor.fit(frugal_mct_feature_list, frugal_mct_classifier_acc_list)\n",
    "    \n",
    "frugal_mct_acc_est_list = np.hstack([_ for _ in frugal_mct_accuracy_predictor.predict(frugal_mct_test_feature_list).transpose(1, 0)])\n",
    "\n",
    "test_accuracy_list_frugal_mct = []\n",
    "test_accuracy_argmax_list_frugal_mct = []\n",
    "\n",
    "ilp_A_frugal_mct = np.vstack([ilp_A_uniq, np.hstack([np.zeros(test_size) if idx == metric_base_model_idx else np.ones(test_size) * cost for idx, cost in enumerate(classifier_cost_list)])])\n",
    "base_service_cost = classifier_cost_list[metric_base_model_idx] * test_size\n",
    "for _total_cost_budget in total_cost_budget_list:\n",
    "    ilp_b_u[-1] = _total_cost_budget - base_service_cost\n",
    "    ilp_constraints = LinearConstraint(ilp_A_frugal_mct, ilp_b_l, ilp_b_u)\n",
    "\n",
    "    # https://docs.scipy.org/doc/scipy/reference/generated/scipy.optimize.milp.html\n",
    "    res = milp(c=frugal_mct_acc_est_list * -1., constraints=ilp_constraints, integrality=ilp_integrality, bounds=ilp_bounds, options={\"time_limit\": milp_time_limit})\n",
    "    try:\n",
    "        res.x = res.x.reshape(classifier_num, test_size)\n",
    "        res.x = np.round(res.x).astype(bool)\n",
    "        \n",
    "        test_accuracy_list_frugal_mct.append(np.mean(test_succ_probs_list[res.x]))\n",
    "        test_accuracy_argmax_list_frugal_mct.append(np.mean(test_argmax_list[res.x]))\n",
    "    except AttributeError:\n",
    "        test_accuracy_list_frugal_mct.append(np.nan)\n",
    "        test_accuracy_argmax_list_frugal_mct.append(np.nan)\n"
   ],
   "metadata": {
    "collapsed": false,
    "ExecuteTime": {
     "end_time": "2024-05-16T08:55:21.975988Z",
     "start_time": "2024-05-16T08:54:10.464798Z"
    }
   },
   "id": "e65a635b1355ce4b",
   "outputs": [],
   "execution_count": 11
  },
  {
   "cell_type": "code",
   "source": [
    "import matplotlib.pyplot as plt\n",
    "import numpy as np\n",
    "\n",
    "f = plt.figure(figsize=(3, 3))\n",
    "single_image_ratio = 1e4\n",
    "plt.plot(total_cost_budget_list / single_image_ratio / max(classifier_cost_list), np.array(test_accuracy_argmax_list_single_best) * 100, color='blue', linestyle='-', linewidth=2.5, label=\"Single Best\")\n",
    "plt.plot(total_cost_budget_list / single_image_ratio / max(classifier_cost_list), np.array(test_accuracy_argmax_list_random) * 100, color='green', linestyle='-', linewidth=2.5, label=\"Random\")\n",
    "plt.plot(total_cost_budget_list / single_image_ratio / max(classifier_cost_list), np.array(test_accuracy_argmax_list_frugal_mct) * 100, color='orange', linestyle='-', linewidth=2.5, label=\"FrugalMCT\")\n",
    "plt.plot(total_cost_budget_list / single_image_ratio / max(classifier_cost_list), np.array(test_accuracy_argmax_list_ours) * 100, color='red', linestyle='-', linewidth=2.5, label=\"OCCAM\")\n",
    "plt.xlabel(\"Normalized Cost Budget\", fontsize=14)\n",
    "plt.ylabel(\"Accuracy (%)\", fontsize=14)\n",
    "\n",
    "plt.title(f\"{dataset_name.upper()}\", fontsize=14)\n",
    "plt.legend(loc='upper left')\n",
    "plt.tight_layout()\n",
    "plt.show()\n",
    "\n"
   ],
   "metadata": {
    "collapsed": false
   },
   "id": "3e04f9c169ac7c",
   "outputs": [],
   "execution_count": null
  },
  {
   "cell_type": "code",
   "source": [
    "plt.figure(figsize=(4, 3))\n",
    "single_image_ratio = 1e4\n",
    "plt.stackplot(total_cost_budget_list / single_image_ratio / max(classifier_cost_list), model_usage_along_budget_list / test_size * 100, labels=classifier_type_list) \n",
    "\n",
    "plt.xlabel(\"Normalized Cost Budget (B)\", fontsize=14)\n",
    "plt.ylabel(\"Model Usage (%)\", fontsize=14)\n",
    "plt.title(f\"{dataset_name.upper()}\", fontsize=14)\n",
    "plt.legend()\n",
    "plt.tight_layout()\n",
    "plt.show()\n",
    "\n"
   ],
   "metadata": {
    "collapsed": false,
    "ExecuteTime": {
     "end_time": "2024-05-16T08:56:12.643496Z",
     "start_time": "2024-05-16T08:56:12.440290Z"
    }
   },
   "id": "b88025f65c63b5ae",
   "outputs": [
    {
     "data": {
      "text/plain": [
       "<Figure size 400x300 with 1 Axes>"
      ],
      "image/png": "[encoded data removed]"
     },
     "metadata": {},
     "output_type": "display_data"
    }
   ],
   "execution_count": 17
  },
  {
   "metadata": {},
   "cell_type": "code",
   "outputs": [],
   "execution_count": null,
   "source": "",
   "id": "628b563a24f4914b"
  }
 ],
 "metadata": {
  "kernelspec": {
   "display_name": "Python 3",
   "language": "python",
   "name": "python3"
  },
  "language_info": {
   "codemirror_mode": {
    "name": "ipython",
    "version": 2
   },
   "file_extension": ".py",
   "mimetype": "text/x-python",
   "name": "python",
   "nbconvert_exporter": "python",
   "pygments_lexer": "ipython2",
   "version": "2.7.6"
  }
 },
 "nbformat": 4,
 "nbformat_minor": 5
}
